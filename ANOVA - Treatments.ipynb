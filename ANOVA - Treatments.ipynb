{
 "cells": [
  {
   "cell_type": "markdown",
   "metadata": {},
   "source": [
    "###### Loading / Creating the dataset"
   ]
  },
  {
   "cell_type": "code",
   "execution_count": 65,
   "metadata": {},
   "outputs": [
    {
     "data": {
      "text/html": [
       "<div>\n",
       "<style scoped>\n",
       "    .dataframe tbody tr th:only-of-type {\n",
       "        vertical-align: middle;\n",
       "    }\n",
       "\n",
       "    .dataframe tbody tr th {\n",
       "        vertical-align: top;\n",
       "    }\n",
       "\n",
       "    .dataframe thead th {\n",
       "        text-align: right;\n",
       "    }\n",
       "</style>\n",
       "<table border=\"1\" class=\"dataframe\">\n",
       "  <thead>\n",
       "    <tr style=\"text-align: right;\">\n",
       "      <th></th>\n",
       "      <th>Height</th>\n",
       "      <th>Treatment</th>\n",
       "    </tr>\n",
       "  </thead>\n",
       "  <tbody>\n",
       "    <tr>\n",
       "      <th>0</th>\n",
       "      <td>60</td>\n",
       "      <td>T1</td>\n",
       "    </tr>\n",
       "    <tr>\n",
       "      <th>1</th>\n",
       "      <td>67</td>\n",
       "      <td>T1</td>\n",
       "    </tr>\n",
       "    <tr>\n",
       "      <th>2</th>\n",
       "      <td>42</td>\n",
       "      <td>T1</td>\n",
       "    </tr>\n",
       "    <tr>\n",
       "      <th>3</th>\n",
       "      <td>67</td>\n",
       "      <td>T1</td>\n",
       "    </tr>\n",
       "    <tr>\n",
       "      <th>4</th>\n",
       "      <td>56</td>\n",
       "      <td>T1</td>\n",
       "    </tr>\n",
       "  </tbody>\n",
       "</table>\n",
       "</div>"
      ],
      "text/plain": [
       "   Height Treatment\n",
       "0      60        T1\n",
       "1      67        T1\n",
       "2      42        T1\n",
       "3      67        T1\n",
       "4      56        T1"
      ]
     },
     "execution_count": 65,
     "metadata": {},
     "output_type": "execute_result"
    }
   ],
   "source": [
    "# Loading necessary packages\n",
    "import numpy as np\n",
    "import pandas as pd\n",
    "import matplotlib.pyplot as plt\n",
    "import seaborn as sns\n",
    "\n",
    "# Creating dataset of person's height due to various treatments\n",
    "treatments = ['T1','T2','T3','T4']\n",
    "Height_T1 = [60,67,42,67,56,62,64,59,72,71]\n",
    "Height_T2 = [50,52,43,67,67,59,67,64,63,65]\n",
    "Height_T3 = [48,49,50,55,56,61,61,60,59,64]\n",
    "Height_T4 = [47,67,54,67,68,65,65,56,60,65]\n",
    "\n",
    "# Creating Treatments' Lists\n",
    "T1 = ('T1 '*len(Height_T1)).split(' ')[0 : len(Height_T1)]\n",
    "T2 = ('T2 '*len(Height_T2)).split(' ')[0 : len(Height_T2)]\n",
    "T3 = ('T3 '*len(Height_T3)).split(' ')[0 : len(Height_T3)]\n",
    "T4 = ('T4 '*len(Height_T4)).split(' ')[0 : len(Height_T4)]\n",
    "\n",
    "# Creating dictionary of dataset\n",
    "dic = {'Height' : (Height_T1 + Height_T2 + Height_T3 + Height_T4) , 'Treatment' : (T1 + T2 + T3 + T4)}\n",
    "data = pd.DataFrame(dic)\n",
    "data.head()"
   ]
  },
  {
   "cell_type": "markdown",
   "metadata": {},
   "source": [
    "###### Determine whether there is any difference between the treatment methods"
   ]
  },
  {
   "cell_type": "markdown",
   "metadata": {},
   "source": [
    "Since there are 4 types of treatments / groups we will do ANOVA test"
   ]
  },
  {
   "cell_type": "markdown",
   "metadata": {},
   "source": [
    "###### Visualizing the treatments - Plotting boxplot"
   ]
  },
  {
   "cell_type": "code",
   "execution_count": 66,
   "metadata": {},
   "outputs": [
    {
     "data": {
      "image/png": "[encoded data removed]",
      "text/plain": [
       "<Figure size 432x288 with 1 Axes>"
      ]
     },
     "metadata": {
      "needs_background": "light"
     },
     "output_type": "display_data"
    }
   ],
   "source": [
    "sns.boxplot(x = 'Treatment', y = 'Height', data = data)\n",
    "plt.show()"
   ]
  },
  {
   "cell_type": "markdown",
   "metadata": {},
   "source": [
    "We can observe only slight difference in heights ranges (IQRs) of treatments due to random variation.\n",
    "We can't observe any significant difference in range of heights of children who have undergone different treatments. "
   ]
  },
  {
   "cell_type": "code",
   "execution_count": 79,
   "metadata": {},
   "outputs": [
    {
     "data": {
      "image/png": "[encoded data removed]",
      "text/plain": [
       "<Figure size 720x288 with 1 Axes>"
      ]
     },
     "metadata": {
      "needs_background": "light"
     },
     "output_type": "display_data"
    }
   ],
   "source": [
    "data.boxplot('Height', by = 'Treatment', figsize = (10,4))\n",
    "plt.show()"
   ]
  },
  {
   "cell_type": "markdown",
   "metadata": {},
   "source": [
    "###### Let us check the mean heights of different treatments"
   ]
  },
  {
   "cell_type": "code",
   "execution_count": 67,
   "metadata": {},
   "outputs": [
    {
     "data": {
      "text/html": [
       "<div>\n",
       "<style scoped>\n",
       "    .dataframe tbody tr th:only-of-type {\n",
       "        vertical-align: middle;\n",
       "    }\n",
       "\n",
       "    .dataframe tbody tr th {\n",
       "        vertical-align: top;\n",
       "    }\n",
       "\n",
       "    .dataframe thead th {\n",
       "        text-align: right;\n",
       "    }\n",
       "</style>\n",
       "<table border=\"1\" class=\"dataframe\">\n",
       "  <thead>\n",
       "    <tr style=\"text-align: right;\">\n",
       "      <th></th>\n",
       "      <th>Height</th>\n",
       "    </tr>\n",
       "    <tr>\n",
       "      <th>Treatment</th>\n",
       "      <th></th>\n",
       "    </tr>\n",
       "  </thead>\n",
       "  <tbody>\n",
       "    <tr>\n",
       "      <th>T1</th>\n",
       "      <td>62.0</td>\n",
       "    </tr>\n",
       "    <tr>\n",
       "      <th>T2</th>\n",
       "      <td>59.7</td>\n",
       "    </tr>\n",
       "    <tr>\n",
       "      <th>T3</th>\n",
       "      <td>56.3</td>\n",
       "    </tr>\n",
       "    <tr>\n",
       "      <th>T4</th>\n",
       "      <td>61.4</td>\n",
       "    </tr>\n",
       "  </tbody>\n",
       "</table>\n",
       "</div>"
      ],
      "text/plain": [
       "           Height\n",
       "Treatment        \n",
       "T1           62.0\n",
       "T2           59.7\n",
       "T3           56.3\n",
       "T4           61.4"
      ]
     },
     "execution_count": 67,
     "metadata": {},
     "output_type": "execute_result"
    }
   ],
   "source": [
    "data.groupby('Treatment').mean()"
   ]
  },
  {
   "cell_type": "markdown",
   "metadata": {},
   "source": [
    "We can't observe significant mean difference in heights of childeren who have undergone different types of treatments "
   ]
  },
  {
   "cell_type": "markdown",
   "metadata": {},
   "source": [
    "###### ANOVA test - using statsmodels"
   ]
  },
  {
   "cell_type": "markdown",
   "metadata": {},
   "source": [
    "- Above 2 methods are not robust in telling that which treatment is better. Hence, we will perform ANOVA.\n",
    "- ANOVA takes :-\n",
    "    - H0 : Mean Heights of all treatments are same (mu1 = mu2 = mu3 = mu4) (OR) Var(b/w)treatments = Var(within)treatments\n",
    "    - HA : Atleast one of the mean heights of treatments differ (OR) Var(b/w)treatments != Var(within)treatments"
   ]
  },
  {
   "cell_type": "code",
   "execution_count": 68,
   "metadata": {},
   "outputs": [
    {
     "name": "stdout",
     "output_type": "stream",
     "text": [
      "           sum_sq    df         F   PR(>F)\n",
      "Treatment   196.5   3.0  1.144327  0.34436\n",
      "Residual   2060.6  36.0       NaN      NaN\n"
     ]
    }
   ],
   "source": [
    "import statsmodels.api as sm\n",
    "from statsmodels.formula.api import ols\n",
    "\n",
    "mod = ols('Height ~ Treatment', data = data).fit()\n",
    "\n",
    "anova_table = sm.stats.anova_lm(mod, typ = 2)\n",
    "print(anova_table)"
   ]
  },
  {
   "cell_type": "markdown",
   "metadata": {},
   "source": [
    "- Since, F_stat = 1.144 is closure to 1, so, we will accept null hypothesis,i.e, there is no significant difference in mean heights of children who have undergone different types of treatments.\n",
    "- As p_value = 0.344 is > alpha (0.05), so, we accept null hypothesis. "
   ]
  },
  {
   "cell_type": "markdown",
   "metadata": {},
   "source": [
    "###### ANOVA test - using formula"
   ]
  },
  {
   "cell_type": "code",
   "execution_count": 87,
   "metadata": {},
   "outputs": [
    {
     "data": {
      "text/html": [
       "<div>\n",
       "<style scoped>\n",
       "    .dataframe tbody tr th:only-of-type {\n",
       "        vertical-align: middle;\n",
       "    }\n",
       "\n",
       "    .dataframe tbody tr th {\n",
       "        vertical-align: top;\n",
       "    }\n",
       "\n",
       "    .dataframe thead th {\n",
       "        text-align: right;\n",
       "    }\n",
       "</style>\n",
       "<table border=\"1\" class=\"dataframe\">\n",
       "  <thead>\n",
       "    <tr style=\"text-align: right;\">\n",
       "      <th></th>\n",
       "      <th>Height</th>\n",
       "    </tr>\n",
       "    <tr>\n",
       "      <th>Treatment</th>\n",
       "      <th></th>\n",
       "    </tr>\n",
       "  </thead>\n",
       "  <tbody>\n",
       "    <tr>\n",
       "      <th>T1</th>\n",
       "      <td>62.0</td>\n",
       "    </tr>\n",
       "    <tr>\n",
       "      <th>T2</th>\n",
       "      <td>59.7</td>\n",
       "    </tr>\n",
       "    <tr>\n",
       "      <th>T3</th>\n",
       "      <td>56.3</td>\n",
       "    </tr>\n",
       "    <tr>\n",
       "      <th>T4</th>\n",
       "      <td>61.4</td>\n",
       "    </tr>\n",
       "  </tbody>\n",
       "</table>\n",
       "</div>"
      ],
      "text/plain": [
       "           Height\n",
       "Treatment        \n",
       "T1           62.0\n",
       "T2           59.7\n",
       "T3           56.3\n",
       "T4           61.4"
      ]
     },
     "execution_count": 87,
     "metadata": {},
     "output_type": "execute_result"
    }
   ],
   "source": [
    "# Calculate mean of different treatments\n",
    "mean_data = data.groupby('Treatment')[['Height']].mean()\n",
    "mean_data"
   ]
  },
  {
   "cell_type": "code",
   "execution_count": 90,
   "metadata": {},
   "outputs": [],
   "source": [
    "t1_bar = mean_data.iloc[0][0] # Mean heights of treatment-1\n",
    "t2_bar = mean_data.iloc[1][0] # Mean heights of treatment-2\n",
    "t3_bar = mean_data.iloc[2][0] # Mean heights of treatment-3\n",
    "t4_bar = mean_data.iloc[3][0] # Mean heights of treatment-3"
   ]
  },
  {
   "cell_type": "code",
   "execution_count": 92,
   "metadata": {},
   "outputs": [
    {
     "data": {
      "text/plain": [
       "59.85"
      ]
     },
     "execution_count": 92,
     "metadata": {},
     "output_type": "execute_result"
    }
   ],
   "source": [
    "# Calculating grand mean\n",
    "t_bar = data['Height'].mean() # Mean of all observations (or) mean of all treatments\n",
    "t_bar"
   ]
  },
  {
   "cell_type": "code",
   "execution_count": 116,
   "metadata": {},
   "outputs": [
    {
     "data": {
      "text/plain": [
       "196.5000000000001"
      ]
     },
     "execution_count": 116,
     "metadata": {},
     "output_type": "execute_result"
    }
   ],
   "source": [
    "# Calculate sum of squares between the groups\n",
    "n = data.groupby('Treatment')['Height'].count()[0] # No. of observations per group\n",
    "ssb = n * sum([(ti_bar - t_bar)**2 for ti_bar in mean_data['Height']])\n",
    "ssb"
   ]
  },
  {
   "cell_type": "code",
   "execution_count": 126,
   "metadata": {},
   "outputs": [
    {
     "data": {
      "text/plain": [
       "2060.6"
      ]
     },
     "execution_count": 126,
     "metadata": {},
     "output_type": "execute_result"
    }
   ],
   "source": [
    "# Calculate sum of squares within the groups\n",
    "ssw1 = sum([(ti - t1_bar)**2 for ti in data[data['Treatment'] == 'T1']['Height']])\n",
    "ssw2 = sum([(ti - t2_bar)**2 for ti in data[data['Treatment'] == 'T2']['Height']])\n",
    "ssw3 = sum([(ti - t3_bar)**2 for ti in data[data['Treatment'] == 'T3']['Height']])\n",
    "ssw4 = sum([(ti - t4_bar)**2 for ti in data[data['Treatment'] == 'T4']['Height']])\n",
    "ssw = ssw1 + ssw2 + ssw3 +ssw4\n",
    "ssw"
   ]
  },
  {
   "cell_type": "code",
   "execution_count": 145,
   "metadata": {},
   "outputs": [
    {
     "data": {
      "text/plain": [
       "65.50000000000004"
      ]
     },
     "execution_count": 145,
     "metadata": {},
     "output_type": "execute_result"
    }
   ],
   "source": [
    "# Calculate variance between the groups\n",
    "k = data['Treatment'].nunique() # No. of treatment groups\n",
    "df_b = k - 1\n",
    "var_b = ssb / df_b\n",
    "var_b"
   ]
  },
  {
   "cell_type": "code",
   "execution_count": 146,
   "metadata": {},
   "outputs": [
    {
     "data": {
      "text/plain": [
       "57.23888888888889"
      ]
     },
     "execution_count": 146,
     "metadata": {},
     "output_type": "execute_result"
    }
   ],
   "source": [
    "# Calculate variance within the groups\n",
    "df_w = n*k - k\n",
    "var_w = ssw / df_w\n",
    "var_w"
   ]
  },
  {
   "cell_type": "code",
   "execution_count": 148,
   "metadata": {},
   "outputs": [
    {
     "name": "stdout",
     "output_type": "stream",
     "text": [
      "1.144\n"
     ]
    }
   ],
   "source": [
    "# Calculate F-statistic\n",
    "F_stat = var_b / var_w\n",
    "print(round(F_stat,3))"
   ]
  },
  {
   "cell_type": "markdown",
   "metadata": {},
   "source": [
    "As F_stat is closure to 1 ,i.e,there is no significant difference in variances of 4 treatments "
   ]
  },
  {
   "cell_type": "code",
   "execution_count": 154,
   "metadata": {},
   "outputs": [
    {
     "data": {
      "text/plain": [
       "0.3443595629359095"
      ]
     },
     "execution_count": 154,
     "metadata": {},
     "output_type": "execute_result"
    }
   ],
   "source": [
    "# Calculate p-value\n",
    "import scipy.stats\n",
    "p_value = 1 - scipy.stats.f.cdf(F_stat,df_b,df_w)\n",
    "p_value"
   ]
  },
  {
   "cell_type": "markdown",
   "metadata": {},
   "source": [
    "As p_value > 0.05, so, we will accept null hypothesis, i.e., mean heights in all treatments remain same."
   ]
  },
  {
   "cell_type": "code",
   "execution_count": 153,
   "metadata": {},
   "outputs": [
    {
     "name": "stdout",
     "output_type": "stream",
     "text": [
      "8.706 %\n"
     ]
    }
   ],
   "source": [
    "# Calculate R^2 - coeff. of determination\n",
    "sst = ssb + ssw\n",
    "R2 = ssb / sst\n",
    "print('{} %'.format(round(R2*100,3)))"
   ]
  },
  {
   "cell_type": "markdown",
   "metadata": {},
   "source": [
    "So, ANOVA model explains 8.7 % of variation in height i.e., the 4 treatments explain 8.7 % of variation in height"
   ]
  },
  {
   "cell_type": "code",
   "execution_count": 155,
   "metadata": {},
   "outputs": [
    {
     "data": {
      "text/html": [
       "<div>\n",
       "<style scoped>\n",
       "    .dataframe tbody tr th:only-of-type {\n",
       "        vertical-align: middle;\n",
       "    }\n",
       "\n",
       "    .dataframe tbody tr th {\n",
       "        vertical-align: top;\n",
       "    }\n",
       "\n",
       "    .dataframe thead th {\n",
       "        text-align: right;\n",
       "    }\n",
       "</style>\n",
       "<table border=\"1\" class=\"dataframe\">\n",
       "  <thead>\n",
       "    <tr style=\"text-align: right;\">\n",
       "      <th></th>\n",
       "      <th>Source of variation</th>\n",
       "      <th>df</th>\n",
       "      <th>Sum_Sq</th>\n",
       "      <th>Mean_Sum_Sq</th>\n",
       "      <th>F- Statistics</th>\n",
       "      <th>p - value</th>\n",
       "    </tr>\n",
       "  </thead>\n",
       "  <tbody>\n",
       "    <tr>\n",
       "      <th>0</th>\n",
       "      <td>Between</td>\n",
       "      <td>3</td>\n",
       "      <td>196.5</td>\n",
       "      <td>65.500000</td>\n",
       "      <td>1.144327</td>\n",
       "      <td>0.34436</td>\n",
       "    </tr>\n",
       "    <tr>\n",
       "      <th>1</th>\n",
       "      <td>Within</td>\n",
       "      <td>36</td>\n",
       "      <td>2060.6</td>\n",
       "      <td>57.238889</td>\n",
       "      <td>NaN</td>\n",
       "      <td>NaN</td>\n",
       "    </tr>\n",
       "    <tr>\n",
       "      <th>2</th>\n",
       "      <td>Total</td>\n",
       "      <td>9</td>\n",
       "      <td>2257.1</td>\n",
       "      <td>NaN</td>\n",
       "      <td>NaN</td>\n",
       "      <td>NaN</td>\n",
       "    </tr>\n",
       "  </tbody>\n",
       "</table>\n",
       "</div>"
      ],
      "text/plain": [
       "  Source of variation  df  Sum_Sq  Mean_Sum_Sq  F- Statistics  p - value\n",
       "0             Between   3   196.5    65.500000       1.144327    0.34436\n",
       "1              Within  36  2060.6    57.238889            NaN        NaN\n",
       "2               Total   9  2257.1          NaN            NaN        NaN"
      ]
     },
     "execution_count": 155,
     "metadata": {},
     "output_type": "execute_result"
    }
   ],
   "source": [
    "# Printing ANOVA Table\n",
    "anova_dic = {'Source of variation': ['Between','Within', 'Total'], 'df' : [df_b,df_w, n- 1], 'Sum_Sq' : [ssb,ssw,sst]\n",
    "            , 'Mean_Sum_Sq': [var_b,var_w,np.nan], 'F- Statistics': [F_stat,np.nan,np.nan], 'p - value' :[p_value,np.nan,np.nan]}\n",
    "anova = pd.DataFrame(anova_dic)\n",
    "anova"
   ]
  }
 ],
 "metadata": {
  "kernelspec": {
   "display_name": "Python 3",
   "language": "python",
   "name": "python3"
  },
  "language_info": {
   "codemirror_mode": {
    "name": "ipython",
    "version": 3
   },
   "file_extension": ".py",
   "mimetype": "text/x-python",
   "name": "python",
   "nbconvert_exporter": "python",
   "pygments_lexer": "ipython3",
   "version": "3.8.5"
  }
 },
 "nbformat": 4,
 "nbformat_minor": 4
}
